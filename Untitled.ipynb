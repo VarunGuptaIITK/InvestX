{
 "cells": [
  {
   "cell_type": "code",
   "execution_count": 1,
   "id": "84c04273",
   "metadata": {},
   "outputs": [],
   "source": [
    "import numpy as np\n",
    "import pandas as pd\n"
   ]
  },
  {
   "cell_type": "code",
   "execution_count": 3,
   "id": "68b5413a",
   "metadata": {},
   "outputs": [],
   "source": [
    "dict1={\n",
    "    \"name\":['harry','rohan','skillf','shubh'],\n",
    "    \"marks\":[92,34,24,17],\n",
    "    \"city\":['rampur','kolkata','bareilly','antarctica']\n",
    "}"
   ]
  },
  {
   "cell_type": "code",
   "execution_count": 5,
   "id": "6c7ef06c",
   "metadata": {},
   "outputs": [],
   "source": [
    "df=pd.DataFrame(dict1)"
   ]
  },
  {
   "cell_type": "code",
   "execution_count": 6,
   "id": "04a43719",
   "metadata": {},
   "outputs": [
    {
     "data": {
      "text/html": [
       "<div>\n",
       "<style scoped>\n",
       "    .dataframe tbody tr th:only-of-type {\n",
       "        vertical-align: middle;\n",
       "    }\n",
       "\n",
       "    .dataframe tbody tr th {\n",
       "        vertical-align: top;\n",
       "    }\n",
       "\n",
       "    .dataframe thead th {\n",
       "        text-align: right;\n",
       "    }\n",
       "</style>\n",
       "<table border=\"1\" class=\"dataframe\">\n",
       "  <thead>\n",
       "    <tr style=\"text-align: right;\">\n",
       "      <th></th>\n",
       "      <th>name</th>\n",
       "      <th>marks</th>\n",
       "      <th>city</th>\n",
       "    </tr>\n",
       "  </thead>\n",
       "  <tbody>\n",
       "    <tr>\n",
       "      <th>0</th>\n",
       "      <td>harry</td>\n",
       "      <td>92</td>\n",
       "      <td>rampur</td>\n",
       "    </tr>\n",
       "    <tr>\n",
       "      <th>1</th>\n",
       "      <td>rohan</td>\n",
       "      <td>34</td>\n",
       "      <td>kolkata</td>\n",
       "    </tr>\n",
       "    <tr>\n",
       "      <th>2</th>\n",
       "      <td>skillf</td>\n",
       "      <td>24</td>\n",
       "      <td>bareilly</td>\n",
       "    </tr>\n",
       "    <tr>\n",
       "      <th>3</th>\n",
       "      <td>shubh</td>\n",
       "      <td>17</td>\n",
       "      <td>antarctica</td>\n",
       "    </tr>\n",
       "  </tbody>\n",
       "</table>\n",
       "</div>"
      ],
      "text/plain": [
       "     name  marks        city\n",
       "0   harry     92      rampur\n",
       "1   rohan     34     kolkata\n",
       "2  skillf     24    bareilly\n",
       "3   shubh     17  antarctica"
      ]
     },
     "execution_count": 6,
     "metadata": {},
     "output_type": "execute_result"
    }
   ],
   "source": [
    "df\n"
   ]
  },
  {
   "cell_type": "code",
   "execution_count": 7,
   "id": "3ba52613",
   "metadata": {},
   "outputs": [],
   "source": [
    "df.to_csv(\"friends.csv\")"
   ]
  },
  {
   "cell_type": "code",
   "execution_count": 8,
   "id": "72b0ee23",
   "metadata": {},
   "outputs": [],
   "source": [
    "df.to_csv(\"friends_index_false.csv\",index=False)"
   ]
  },
  {
   "cell_type": "code",
   "execution_count": 9,
   "id": "7399e1e4",
   "metadata": {},
   "outputs": [
    {
     "data": {
      "text/html": [
       "<div>\n",
       "<style scoped>\n",
       "    .dataframe tbody tr th:only-of-type {\n",
       "        vertical-align: middle;\n",
       "    }\n",
       "\n",
       "    .dataframe tbody tr th {\n",
       "        vertical-align: top;\n",
       "    }\n",
       "\n",
       "    .dataframe thead th {\n",
       "        text-align: right;\n",
       "    }\n",
       "</style>\n",
       "<table border=\"1\" class=\"dataframe\">\n",
       "  <thead>\n",
       "    <tr style=\"text-align: right;\">\n",
       "      <th></th>\n",
       "      <th>name</th>\n",
       "      <th>marks</th>\n",
       "      <th>city</th>\n",
       "    </tr>\n",
       "  </thead>\n",
       "  <tbody>\n",
       "    <tr>\n",
       "      <th>0</th>\n",
       "      <td>harry</td>\n",
       "      <td>92</td>\n",
       "      <td>rampur</td>\n",
       "    </tr>\n",
       "    <tr>\n",
       "      <th>1</th>\n",
       "      <td>rohan</td>\n",
       "      <td>34</td>\n",
       "      <td>kolkata</td>\n",
       "    </tr>\n",
       "  </tbody>\n",
       "</table>\n",
       "</div>"
      ],
      "text/plain": [
       "    name  marks     city\n",
       "0  harry     92   rampur\n",
       "1  rohan     34  kolkata"
      ]
     },
     "execution_count": 9,
     "metadata": {},
     "output_type": "execute_result"
    }
   ],
   "source": [
    "df.head(2)"
   ]
  },
  {
   "cell_type": "code",
   "execution_count": 10,
   "id": "dd0d2502",
   "metadata": {},
   "outputs": [
    {
     "data": {
      "text/html": [
       "<div>\n",
       "<style scoped>\n",
       "    .dataframe tbody tr th:only-of-type {\n",
       "        vertical-align: middle;\n",
       "    }\n",
       "\n",
       "    .dataframe tbody tr th {\n",
       "        vertical-align: top;\n",
       "    }\n",
       "\n",
       "    .dataframe thead th {\n",
       "        text-align: right;\n",
       "    }\n",
       "</style>\n",
       "<table border=\"1\" class=\"dataframe\">\n",
       "  <thead>\n",
       "    <tr style=\"text-align: right;\">\n",
       "      <th></th>\n",
       "      <th>name</th>\n",
       "      <th>marks</th>\n",
       "      <th>city</th>\n",
       "    </tr>\n",
       "  </thead>\n",
       "  <tbody>\n",
       "    <tr>\n",
       "      <th>2</th>\n",
       "      <td>skillf</td>\n",
       "      <td>24</td>\n",
       "      <td>bareilly</td>\n",
       "    </tr>\n",
       "    <tr>\n",
       "      <th>3</th>\n",
       "      <td>shubh</td>\n",
       "      <td>17</td>\n",
       "      <td>antarctica</td>\n",
       "    </tr>\n",
       "  </tbody>\n",
       "</table>\n",
       "</div>"
      ],
      "text/plain": [
       "     name  marks        city\n",
       "2  skillf     24    bareilly\n",
       "3   shubh     17  antarctica"
      ]
     },
     "execution_count": 10,
     "metadata": {},
     "output_type": "execute_result"
    }
   ],
   "source": [
    "df.tail(2)"
   ]
  },
  {
   "cell_type": "code",
   "execution_count": 11,
   "id": "b765b04e",
   "metadata": {},
   "outputs": [
    {
     "data": {
      "text/html": [
       "<div>\n",
       "<style scoped>\n",
       "    .dataframe tbody tr th:only-of-type {\n",
       "        vertical-align: middle;\n",
       "    }\n",
       "\n",
       "    .dataframe tbody tr th {\n",
       "        vertical-align: top;\n",
       "    }\n",
       "\n",
       "    .dataframe thead th {\n",
       "        text-align: right;\n",
       "    }\n",
       "</style>\n",
       "<table border=\"1\" class=\"dataframe\">\n",
       "  <thead>\n",
       "    <tr style=\"text-align: right;\">\n",
       "      <th></th>\n",
       "      <th>marks</th>\n",
       "    </tr>\n",
       "  </thead>\n",
       "  <tbody>\n",
       "    <tr>\n",
       "      <th>count</th>\n",
       "      <td>4.00000</td>\n",
       "    </tr>\n",
       "    <tr>\n",
       "      <th>mean</th>\n",
       "      <td>41.75000</td>\n",
       "    </tr>\n",
       "    <tr>\n",
       "      <th>std</th>\n",
       "      <td>34.21866</td>\n",
       "    </tr>\n",
       "    <tr>\n",
       "      <th>min</th>\n",
       "      <td>17.00000</td>\n",
       "    </tr>\n",
       "    <tr>\n",
       "      <th>25%</th>\n",
       "      <td>22.25000</td>\n",
       "    </tr>\n",
       "    <tr>\n",
       "      <th>50%</th>\n",
       "      <td>29.00000</td>\n",
       "    </tr>\n",
       "    <tr>\n",
       "      <th>75%</th>\n",
       "      <td>48.50000</td>\n",
       "    </tr>\n",
       "    <tr>\n",
       "      <th>max</th>\n",
       "      <td>92.00000</td>\n",
       "    </tr>\n",
       "  </tbody>\n",
       "</table>\n",
       "</div>"
      ],
      "text/plain": [
       "          marks\n",
       "count   4.00000\n",
       "mean   41.75000\n",
       "std    34.21866\n",
       "min    17.00000\n",
       "25%    22.25000\n",
       "50%    29.00000\n",
       "75%    48.50000\n",
       "max    92.00000"
      ]
     },
     "execution_count": 11,
     "metadata": {},
     "output_type": "execute_result"
    }
   ],
   "source": [
    "df.describe()"
   ]
  },
  {
   "cell_type": "code",
   "execution_count": 12,
   "id": "9c98daf6",
   "metadata": {},
   "outputs": [],
   "source": [
    "df.to_csv(\"harry.csv\")"
   ]
  },
  {
   "cell_type": "code",
   "execution_count": 13,
   "id": "cc182811",
   "metadata": {},
   "outputs": [],
   "source": [
    "harry=pd.read_csv('harry.csv')"
   ]
  },
  {
   "cell_type": "code",
   "execution_count": 14,
   "id": "bdd111ff",
   "metadata": {},
   "outputs": [
    {
     "data": {
      "text/html": [
       "<div>\n",
       "<style scoped>\n",
       "    .dataframe tbody tr th:only-of-type {\n",
       "        vertical-align: middle;\n",
       "    }\n",
       "\n",
       "    .dataframe tbody tr th {\n",
       "        vertical-align: top;\n",
       "    }\n",
       "\n",
       "    .dataframe thead th {\n",
       "        text-align: right;\n",
       "    }\n",
       "</style>\n",
       "<table border=\"1\" class=\"dataframe\">\n",
       "  <thead>\n",
       "    <tr style=\"text-align: right;\">\n",
       "      <th></th>\n",
       "      <th>TRAIN NO</th>\n",
       "      <th>SPEED</th>\n",
       "      <th>city</th>\n",
       "    </tr>\n",
       "  </thead>\n",
       "  <tbody>\n",
       "    <tr>\n",
       "      <th>0</th>\n",
       "      <td>1678</td>\n",
       "      <td>92</td>\n",
       "      <td>rampur</td>\n",
       "    </tr>\n",
       "    <tr>\n",
       "      <th>1</th>\n",
       "      <td>1345</td>\n",
       "      <td>90</td>\n",
       "      <td>kolkata</td>\n",
       "    </tr>\n",
       "    <tr>\n",
       "      <th>2</th>\n",
       "      <td>1245</td>\n",
       "      <td>60</td>\n",
       "      <td>bareilly</td>\n",
       "    </tr>\n",
       "    <tr>\n",
       "      <th>3</th>\n",
       "      <td>1234</td>\n",
       "      <td>100</td>\n",
       "      <td>antarctica</td>\n",
       "    </tr>\n",
       "  </tbody>\n",
       "</table>\n",
       "</div>"
      ],
      "text/plain": [
       "   TRAIN NO  SPEED        city\n",
       "0      1678     92      rampur\n",
       "1      1345     90     kolkata\n",
       "2      1245     60    bareilly\n",
       "3      1234    100  antarctica"
      ]
     },
     "execution_count": 14,
     "metadata": {},
     "output_type": "execute_result"
    }
   ],
   "source": [
    "harry"
   ]
  },
  {
   "cell_type": "code",
   "execution_count": 16,
   "id": "350031ec",
   "metadata": {},
   "outputs": [
    {
     "data": {
      "text/plain": [
       "92"
      ]
     },
     "execution_count": 16,
     "metadata": {},
     "output_type": "execute_result"
    }
   ],
   "source": [
    "harry['SPEED'][0]"
   ]
  },
  {
   "cell_type": "code",
   "execution_count": 17,
   "id": "30a88658",
   "metadata": {},
   "outputs": [],
   "source": [
    "harry.index=['first','second','third','fourth']"
   ]
  },
  {
   "cell_type": "markdown",
   "id": "82a34fbc",
   "metadata": {},
   "source": [
    "#pandas tutuorial\n"
   ]
  },
  {
   "cell_type": "code",
   "execution_count": 19,
   "id": "7c45866c",
   "metadata": {},
   "outputs": [],
   "source": [
    "ser=pd.Series(np.random.rand(34))"
   ]
  },
  {
   "cell_type": "code",
   "execution_count": 20,
   "id": "784f77d2",
   "metadata": {},
   "outputs": [
    {
     "data": {
      "text/plain": [
       "pandas.core.series.Series"
      ]
     },
     "execution_count": 20,
     "metadata": {},
     "output_type": "execute_result"
    }
   ],
   "source": [
    "type(ser)"
   ]
  },
  {
   "cell_type": "code",
   "execution_count": 22,
   "id": "6f2c9b4c",
   "metadata": {},
   "outputs": [],
   "source": [
    "newdf=pd.DataFrame(np.random.rand(334,5),index=np.arange(334))"
   ]
  },
  {
   "cell_type": "code",
   "execution_count": 23,
   "id": "a8ee297c",
   "metadata": {},
   "outputs": [
    {
     "data": {
      "text/html": [
       "<div>\n",
       "<style scoped>\n",
       "    .dataframe tbody tr th:only-of-type {\n",
       "        vertical-align: middle;\n",
       "    }\n",
       "\n",
       "    .dataframe tbody tr th {\n",
       "        vertical-align: top;\n",
       "    }\n",
       "\n",
       "    .dataframe thead th {\n",
       "        text-align: right;\n",
       "    }\n",
       "</style>\n",
       "<table border=\"1\" class=\"dataframe\">\n",
       "  <thead>\n",
       "    <tr style=\"text-align: right;\">\n",
       "      <th></th>\n",
       "      <th>0</th>\n",
       "      <th>1</th>\n",
       "      <th>2</th>\n",
       "      <th>3</th>\n",
       "      <th>4</th>\n",
       "    </tr>\n",
       "  </thead>\n",
       "  <tbody>\n",
       "    <tr>\n",
       "      <th>0</th>\n",
       "      <td>0.373428</td>\n",
       "      <td>0.274632</td>\n",
       "      <td>0.852182</td>\n",
       "      <td>0.438983</td>\n",
       "      <td>0.917143</td>\n",
       "    </tr>\n",
       "    <tr>\n",
       "      <th>1</th>\n",
       "      <td>0.468905</td>\n",
       "      <td>0.611442</td>\n",
       "      <td>0.706282</td>\n",
       "      <td>0.209647</td>\n",
       "      <td>0.256123</td>\n",
       "    </tr>\n",
       "    <tr>\n",
       "      <th>2</th>\n",
       "      <td>0.757843</td>\n",
       "      <td>0.079794</td>\n",
       "      <td>0.176386</td>\n",
       "      <td>0.815606</td>\n",
       "      <td>0.587154</td>\n",
       "    </tr>\n",
       "    <tr>\n",
       "      <th>3</th>\n",
       "      <td>0.748263</td>\n",
       "      <td>0.381211</td>\n",
       "      <td>0.716945</td>\n",
       "      <td>0.734527</td>\n",
       "      <td>0.649900</td>\n",
       "    </tr>\n",
       "    <tr>\n",
       "      <th>4</th>\n",
       "      <td>0.362436</td>\n",
       "      <td>0.215276</td>\n",
       "      <td>0.842039</td>\n",
       "      <td>0.075048</td>\n",
       "      <td>0.187574</td>\n",
       "    </tr>\n",
       "    <tr>\n",
       "      <th>...</th>\n",
       "      <td>...</td>\n",
       "      <td>...</td>\n",
       "      <td>...</td>\n",
       "      <td>...</td>\n",
       "      <td>...</td>\n",
       "    </tr>\n",
       "    <tr>\n",
       "      <th>329</th>\n",
       "      <td>0.055740</td>\n",
       "      <td>0.907062</td>\n",
       "      <td>0.198724</td>\n",
       "      <td>0.008514</td>\n",
       "      <td>0.808041</td>\n",
       "    </tr>\n",
       "    <tr>\n",
       "      <th>330</th>\n",
       "      <td>0.122154</td>\n",
       "      <td>0.843690</td>\n",
       "      <td>0.446830</td>\n",
       "      <td>0.856545</td>\n",
       "      <td>0.658385</td>\n",
       "    </tr>\n",
       "    <tr>\n",
       "      <th>331</th>\n",
       "      <td>0.369739</td>\n",
       "      <td>0.597001</td>\n",
       "      <td>0.808329</td>\n",
       "      <td>0.122100</td>\n",
       "      <td>0.892504</td>\n",
       "    </tr>\n",
       "    <tr>\n",
       "      <th>332</th>\n",
       "      <td>0.519232</td>\n",
       "      <td>0.205323</td>\n",
       "      <td>0.653055</td>\n",
       "      <td>0.938982</td>\n",
       "      <td>0.634275</td>\n",
       "    </tr>\n",
       "    <tr>\n",
       "      <th>333</th>\n",
       "      <td>0.518925</td>\n",
       "      <td>0.166148</td>\n",
       "      <td>0.933475</td>\n",
       "      <td>0.562564</td>\n",
       "      <td>0.386757</td>\n",
       "    </tr>\n",
       "  </tbody>\n",
       "</table>\n",
       "<p>334 rows × 5 columns</p>\n",
       "</div>"
      ],
      "text/plain": [
       "            0         1         2         3         4\n",
       "0    0.373428  0.274632  0.852182  0.438983  0.917143\n",
       "1    0.468905  0.611442  0.706282  0.209647  0.256123\n",
       "2    0.757843  0.079794  0.176386  0.815606  0.587154\n",
       "3    0.748263  0.381211  0.716945  0.734527  0.649900\n",
       "4    0.362436  0.215276  0.842039  0.075048  0.187574\n",
       "..        ...       ...       ...       ...       ...\n",
       "329  0.055740  0.907062  0.198724  0.008514  0.808041\n",
       "330  0.122154  0.843690  0.446830  0.856545  0.658385\n",
       "331  0.369739  0.597001  0.808329  0.122100  0.892504\n",
       "332  0.519232  0.205323  0.653055  0.938982  0.634275\n",
       "333  0.518925  0.166148  0.933475  0.562564  0.386757\n",
       "\n",
       "[334 rows x 5 columns]"
      ]
     },
     "execution_count": 23,
     "metadata": {},
     "output_type": "execute_result"
    }
   ],
   "source": [
    "newdf\n"
   ]
  },
  {
   "cell_type": "code",
   "execution_count": 24,
   "id": "742791ad",
   "metadata": {},
   "outputs": [
    {
     "data": {
      "text/html": [
       "<div>\n",
       "<style scoped>\n",
       "    .dataframe tbody tr th:only-of-type {\n",
       "        vertical-align: middle;\n",
       "    }\n",
       "\n",
       "    .dataframe tbody tr th {\n",
       "        vertical-align: top;\n",
       "    }\n",
       "\n",
       "    .dataframe thead th {\n",
       "        text-align: right;\n",
       "    }\n",
       "</style>\n",
       "<table border=\"1\" class=\"dataframe\">\n",
       "  <thead>\n",
       "    <tr style=\"text-align: right;\">\n",
       "      <th></th>\n",
       "      <th>0</th>\n",
       "      <th>1</th>\n",
       "      <th>2</th>\n",
       "      <th>3</th>\n",
       "      <th>4</th>\n",
       "    </tr>\n",
       "  </thead>\n",
       "  <tbody>\n",
       "    <tr>\n",
       "      <th>count</th>\n",
       "      <td>334.000000</td>\n",
       "      <td>334.000000</td>\n",
       "      <td>334.000000</td>\n",
       "      <td>334.000000</td>\n",
       "      <td>334.000000</td>\n",
       "    </tr>\n",
       "    <tr>\n",
       "      <th>mean</th>\n",
       "      <td>0.498152</td>\n",
       "      <td>0.465554</td>\n",
       "      <td>0.505173</td>\n",
       "      <td>0.499881</td>\n",
       "      <td>0.510025</td>\n",
       "    </tr>\n",
       "    <tr>\n",
       "      <th>std</th>\n",
       "      <td>0.295019</td>\n",
       "      <td>0.292909</td>\n",
       "      <td>0.283375</td>\n",
       "      <td>0.293711</td>\n",
       "      <td>0.278407</td>\n",
       "    </tr>\n",
       "    <tr>\n",
       "      <th>min</th>\n",
       "      <td>0.004832</td>\n",
       "      <td>0.001841</td>\n",
       "      <td>0.010475</td>\n",
       "      <td>0.001796</td>\n",
       "      <td>0.003261</td>\n",
       "    </tr>\n",
       "    <tr>\n",
       "      <th>25%</th>\n",
       "      <td>0.234795</td>\n",
       "      <td>0.210801</td>\n",
       "      <td>0.265263</td>\n",
       "      <td>0.220678</td>\n",
       "      <td>0.273483</td>\n",
       "    </tr>\n",
       "    <tr>\n",
       "      <th>50%</th>\n",
       "      <td>0.499768</td>\n",
       "      <td>0.443348</td>\n",
       "      <td>0.500681</td>\n",
       "      <td>0.514959</td>\n",
       "      <td>0.512960</td>\n",
       "    </tr>\n",
       "    <tr>\n",
       "      <th>75%</th>\n",
       "      <td>0.747927</td>\n",
       "      <td>0.730956</td>\n",
       "      <td>0.744866</td>\n",
       "      <td>0.742576</td>\n",
       "      <td>0.748169</td>\n",
       "    </tr>\n",
       "    <tr>\n",
       "      <th>max</th>\n",
       "      <td>0.998788</td>\n",
       "      <td>0.985591</td>\n",
       "      <td>0.998161</td>\n",
       "      <td>0.999936</td>\n",
       "      <td>0.998064</td>\n",
       "    </tr>\n",
       "  </tbody>\n",
       "</table>\n",
       "</div>"
      ],
      "text/plain": [
       "                0           1           2           3           4\n",
       "count  334.000000  334.000000  334.000000  334.000000  334.000000\n",
       "mean     0.498152    0.465554    0.505173    0.499881    0.510025\n",
       "std      0.295019    0.292909    0.283375    0.293711    0.278407\n",
       "min      0.004832    0.001841    0.010475    0.001796    0.003261\n",
       "25%      0.234795    0.210801    0.265263    0.220678    0.273483\n",
       "50%      0.499768    0.443348    0.500681    0.514959    0.512960\n",
       "75%      0.747927    0.730956    0.744866    0.742576    0.748169\n",
       "max      0.998788    0.985591    0.998161    0.999936    0.998064"
      ]
     },
     "execution_count": 24,
     "metadata": {},
     "output_type": "execute_result"
    }
   ],
   "source": [
    "newdf.describe()"
   ]
  },
  {
   "cell_type": "code",
   "execution_count": 25,
   "id": "91f545dc",
   "metadata": {},
   "outputs": [
    {
     "data": {
      "text/plain": [
       "pandas.core.frame.DataFrame"
      ]
     },
     "execution_count": 25,
     "metadata": {},
     "output_type": "execute_result"
    }
   ],
   "source": [
    "type(newdf)"
   ]
  },
  {
   "cell_type": "code",
   "execution_count": 26,
   "id": "8fa1a826",
   "metadata": {},
   "outputs": [
    {
     "data": {
      "text/plain": [
       "0    float64\n",
       "1    float64\n",
       "2    float64\n",
       "3    float64\n",
       "4    float64\n",
       "dtype: object"
      ]
     },
     "execution_count": 26,
     "metadata": {},
     "output_type": "execute_result"
    }
   ],
   "source": [
    "newdf.dtypes"
   ]
  },
  {
   "cell_type": "code",
   "execution_count": 27,
   "id": "6caa8a6a",
   "metadata": {},
   "outputs": [],
   "source": [
    "newdf[0][0]=\"harry\""
   ]
  },
  {
   "cell_type": "code",
   "execution_count": 28,
   "id": "f06ca125",
   "metadata": {},
   "outputs": [
    {
     "data": {
      "text/html": [
       "<div>\n",
       "<style scoped>\n",
       "    .dataframe tbody tr th:only-of-type {\n",
       "        vertical-align: middle;\n",
       "    }\n",
       "\n",
       "    .dataframe tbody tr th {\n",
       "        vertical-align: top;\n",
       "    }\n",
       "\n",
       "    .dataframe thead th {\n",
       "        text-align: right;\n",
       "    }\n",
       "</style>\n",
       "<table border=\"1\" class=\"dataframe\">\n",
       "  <thead>\n",
       "    <tr style=\"text-align: right;\">\n",
       "      <th></th>\n",
       "      <th>0</th>\n",
       "      <th>1</th>\n",
       "      <th>2</th>\n",
       "      <th>3</th>\n",
       "      <th>4</th>\n",
       "    </tr>\n",
       "  </thead>\n",
       "  <tbody>\n",
       "    <tr>\n",
       "      <th>0</th>\n",
       "      <td>harry</td>\n",
       "      <td>0.274632</td>\n",
       "      <td>0.852182</td>\n",
       "      <td>0.438983</td>\n",
       "      <td>0.917143</td>\n",
       "    </tr>\n",
       "    <tr>\n",
       "      <th>1</th>\n",
       "      <td>0.468905</td>\n",
       "      <td>0.611442</td>\n",
       "      <td>0.706282</td>\n",
       "      <td>0.209647</td>\n",
       "      <td>0.256123</td>\n",
       "    </tr>\n",
       "    <tr>\n",
       "      <th>2</th>\n",
       "      <td>0.757843</td>\n",
       "      <td>0.079794</td>\n",
       "      <td>0.176386</td>\n",
       "      <td>0.815606</td>\n",
       "      <td>0.587154</td>\n",
       "    </tr>\n",
       "    <tr>\n",
       "      <th>3</th>\n",
       "      <td>0.748263</td>\n",
       "      <td>0.381211</td>\n",
       "      <td>0.716945</td>\n",
       "      <td>0.734527</td>\n",
       "      <td>0.649900</td>\n",
       "    </tr>\n",
       "    <tr>\n",
       "      <th>4</th>\n",
       "      <td>0.362436</td>\n",
       "      <td>0.215276</td>\n",
       "      <td>0.842039</td>\n",
       "      <td>0.075048</td>\n",
       "      <td>0.187574</td>\n",
       "    </tr>\n",
       "    <tr>\n",
       "      <th>...</th>\n",
       "      <td>...</td>\n",
       "      <td>...</td>\n",
       "      <td>...</td>\n",
       "      <td>...</td>\n",
       "      <td>...</td>\n",
       "    </tr>\n",
       "    <tr>\n",
       "      <th>329</th>\n",
       "      <td>0.05574</td>\n",
       "      <td>0.907062</td>\n",
       "      <td>0.198724</td>\n",
       "      <td>0.008514</td>\n",
       "      <td>0.808041</td>\n",
       "    </tr>\n",
       "    <tr>\n",
       "      <th>330</th>\n",
       "      <td>0.122154</td>\n",
       "      <td>0.843690</td>\n",
       "      <td>0.446830</td>\n",
       "      <td>0.856545</td>\n",
       "      <td>0.658385</td>\n",
       "    </tr>\n",
       "    <tr>\n",
       "      <th>331</th>\n",
       "      <td>0.369739</td>\n",
       "      <td>0.597001</td>\n",
       "      <td>0.808329</td>\n",
       "      <td>0.122100</td>\n",
       "      <td>0.892504</td>\n",
       "    </tr>\n",
       "    <tr>\n",
       "      <th>332</th>\n",
       "      <td>0.519232</td>\n",
       "      <td>0.205323</td>\n",
       "      <td>0.653055</td>\n",
       "      <td>0.938982</td>\n",
       "      <td>0.634275</td>\n",
       "    </tr>\n",
       "    <tr>\n",
       "      <th>333</th>\n",
       "      <td>0.518925</td>\n",
       "      <td>0.166148</td>\n",
       "      <td>0.933475</td>\n",
       "      <td>0.562564</td>\n",
       "      <td>0.386757</td>\n",
       "    </tr>\n",
       "  </tbody>\n",
       "</table>\n",
       "<p>334 rows × 5 columns</p>\n",
       "</div>"
      ],
      "text/plain": [
       "            0         1         2         3         4\n",
       "0       harry  0.274632  0.852182  0.438983  0.917143\n",
       "1    0.468905  0.611442  0.706282  0.209647  0.256123\n",
       "2    0.757843  0.079794  0.176386  0.815606  0.587154\n",
       "3    0.748263  0.381211  0.716945  0.734527  0.649900\n",
       "4    0.362436  0.215276  0.842039  0.075048  0.187574\n",
       "..        ...       ...       ...       ...       ...\n",
       "329   0.05574  0.907062  0.198724  0.008514  0.808041\n",
       "330  0.122154  0.843690  0.446830  0.856545  0.658385\n",
       "331  0.369739  0.597001  0.808329  0.122100  0.892504\n",
       "332  0.519232  0.205323  0.653055  0.938982  0.634275\n",
       "333  0.518925  0.166148  0.933475  0.562564  0.386757\n",
       "\n",
       "[334 rows x 5 columns]"
      ]
     },
     "execution_count": 28,
     "metadata": {},
     "output_type": "execute_result"
    }
   ],
   "source": [
    "newdf\n"
   ]
  },
  {
   "cell_type": "code",
   "execution_count": 29,
   "id": "eb4b340c",
   "metadata": {},
   "outputs": [
    {
     "data": {
      "text/plain": [
       "0     object\n",
       "1    float64\n",
       "2    float64\n",
       "3    float64\n",
       "4    float64\n",
       "dtype: object"
      ]
     },
     "execution_count": 29,
     "metadata": {},
     "output_type": "execute_result"
    }
   ],
   "source": [
    "newdf.dtypes"
   ]
  },
  {
   "cell_type": "code",
   "execution_count": 30,
   "id": "a49780bb",
   "metadata": {},
   "outputs": [
    {
     "data": {
      "text/html": [
       "<div>\n",
       "<style scoped>\n",
       "    .dataframe tbody tr th:only-of-type {\n",
       "        vertical-align: middle;\n",
       "    }\n",
       "\n",
       "    .dataframe tbody tr th {\n",
       "        vertical-align: top;\n",
       "    }\n",
       "\n",
       "    .dataframe thead th {\n",
       "        text-align: right;\n",
       "    }\n",
       "</style>\n",
       "<table border=\"1\" class=\"dataframe\">\n",
       "  <thead>\n",
       "    <tr style=\"text-align: right;\">\n",
       "      <th></th>\n",
       "      <th>0</th>\n",
       "      <th>1</th>\n",
       "      <th>2</th>\n",
       "      <th>3</th>\n",
       "      <th>4</th>\n",
       "    </tr>\n",
       "  </thead>\n",
       "  <tbody>\n",
       "    <tr>\n",
       "      <th>0</th>\n",
       "      <td>harry</td>\n",
       "      <td>0.274632</td>\n",
       "      <td>0.852182</td>\n",
       "      <td>0.438983</td>\n",
       "      <td>0.917143</td>\n",
       "    </tr>\n",
       "    <tr>\n",
       "      <th>1</th>\n",
       "      <td>0.468905</td>\n",
       "      <td>0.611442</td>\n",
       "      <td>0.706282</td>\n",
       "      <td>0.209647</td>\n",
       "      <td>0.256123</td>\n",
       "    </tr>\n",
       "    <tr>\n",
       "      <th>2</th>\n",
       "      <td>0.757843</td>\n",
       "      <td>0.079794</td>\n",
       "      <td>0.176386</td>\n",
       "      <td>0.815606</td>\n",
       "      <td>0.587154</td>\n",
       "    </tr>\n",
       "    <tr>\n",
       "      <th>3</th>\n",
       "      <td>0.748263</td>\n",
       "      <td>0.381211</td>\n",
       "      <td>0.716945</td>\n",
       "      <td>0.734527</td>\n",
       "      <td>0.649900</td>\n",
       "    </tr>\n",
       "    <tr>\n",
       "      <th>4</th>\n",
       "      <td>0.362436</td>\n",
       "      <td>0.215276</td>\n",
       "      <td>0.842039</td>\n",
       "      <td>0.075048</td>\n",
       "      <td>0.187574</td>\n",
       "    </tr>\n",
       "  </tbody>\n",
       "</table>\n",
       "</div>"
      ],
      "text/plain": [
       "          0         1         2         3         4\n",
       "0     harry  0.274632  0.852182  0.438983  0.917143\n",
       "1  0.468905  0.611442  0.706282  0.209647  0.256123\n",
       "2  0.757843  0.079794  0.176386  0.815606  0.587154\n",
       "3  0.748263  0.381211  0.716945  0.734527  0.649900\n",
       "4  0.362436  0.215276  0.842039  0.075048  0.187574"
      ]
     },
     "execution_count": 30,
     "metadata": {},
     "output_type": "execute_result"
    }
   ],
   "source": [
    "newdf.head()"
   ]
  },
  {
   "cell_type": "code",
   "execution_count": 31,
   "id": "1018550b",
   "metadata": {},
   "outputs": [
    {
     "data": {
      "text/plain": [
       "Index([  0,   1,   2,   3,   4,   5,   6,   7,   8,   9,\n",
       "       ...\n",
       "       324, 325, 326, 327, 328, 329, 330, 331, 332, 333],\n",
       "      dtype='int32', length=334)"
      ]
     },
     "execution_count": 31,
     "metadata": {},
     "output_type": "execute_result"
    }
   ],
   "source": [
    "newdf.index"
   ]
  },
  {
   "cell_type": "code",
   "execution_count": 32,
   "id": "d68bf8b7",
   "metadata": {},
   "outputs": [
    {
     "data": {
      "text/plain": [
       "RangeIndex(start=0, stop=5, step=1)"
      ]
     },
     "execution_count": 32,
     "metadata": {},
     "output_type": "execute_result"
    }
   ],
   "source": [
    "newdf.columns"
   ]
  },
  {
   "cell_type": "code",
   "execution_count": 33,
   "id": "f6ac0238",
   "metadata": {},
   "outputs": [
    {
     "data": {
      "text/plain": [
       "array([['harry', 0.2746319208615007, 0.8521820268005212,\n",
       "        0.43898328286270794, 0.9171431880640174],\n",
       "       [0.4689051784549907, 0.61144226573497, 0.7062819356319784,\n",
       "        0.20964670049595424, 0.25612295719083455],\n",
       "       [0.7578428719988096, 0.07979367383061386, 0.1763863008791433,\n",
       "        0.8156059090057564, 0.5871537238420329],\n",
       "       ...,\n",
       "       [0.36973911664689696, 0.5970010259726122, 0.8083294345635968,\n",
       "        0.12209953363197501, 0.8925037635033828],\n",
       "       [0.519232228182288, 0.2053228978227366, 0.6530547027155138,\n",
       "        0.9389823554407839, 0.6342746718791191],\n",
       "       [0.518925071414785, 0.16614819909374723, 0.9334754077391886,\n",
       "        0.5625642881374486, 0.3867572921306762]], dtype=object)"
      ]
     },
     "execution_count": 33,
     "metadata": {},
     "output_type": "execute_result"
    }
   ],
   "source": [
    "newdf.to_numpy()"
   ]
  },
  {
   "cell_type": "code",
   "execution_count": 34,
   "id": "eaeacaaf",
   "metadata": {},
   "outputs": [
    {
     "data": {
      "text/html": [
       "<div>\n",
       "<style scoped>\n",
       "    .dataframe tbody tr th:only-of-type {\n",
       "        vertical-align: middle;\n",
       "    }\n",
       "\n",
       "    .dataframe tbody tr th {\n",
       "        vertical-align: top;\n",
       "    }\n",
       "\n",
       "    .dataframe thead th {\n",
       "        text-align: right;\n",
       "    }\n",
       "</style>\n",
       "<table border=\"1\" class=\"dataframe\">\n",
       "  <thead>\n",
       "    <tr style=\"text-align: right;\">\n",
       "      <th></th>\n",
       "      <th>0</th>\n",
       "      <th>1</th>\n",
       "      <th>2</th>\n",
       "      <th>3</th>\n",
       "      <th>4</th>\n",
       "      <th>5</th>\n",
       "      <th>6</th>\n",
       "      <th>7</th>\n",
       "      <th>8</th>\n",
       "      <th>9</th>\n",
       "      <th>...</th>\n",
       "      <th>324</th>\n",
       "      <th>325</th>\n",
       "      <th>326</th>\n",
       "      <th>327</th>\n",
       "      <th>328</th>\n",
       "      <th>329</th>\n",
       "      <th>330</th>\n",
       "      <th>331</th>\n",
       "      <th>332</th>\n",
       "      <th>333</th>\n",
       "    </tr>\n",
       "  </thead>\n",
       "  <tbody>\n",
       "    <tr>\n",
       "      <th>0</th>\n",
       "      <td>harry</td>\n",
       "      <td>0.468905</td>\n",
       "      <td>0.757843</td>\n",
       "      <td>0.748263</td>\n",
       "      <td>0.362436</td>\n",
       "      <td>0.004832</td>\n",
       "      <td>0.504618</td>\n",
       "      <td>0.674598</td>\n",
       "      <td>0.74158</td>\n",
       "      <td>0.370402</td>\n",
       "      <td>...</td>\n",
       "      <td>0.007755</td>\n",
       "      <td>0.202929</td>\n",
       "      <td>0.214353</td>\n",
       "      <td>0.304045</td>\n",
       "      <td>0.771467</td>\n",
       "      <td>0.05574</td>\n",
       "      <td>0.122154</td>\n",
       "      <td>0.369739</td>\n",
       "      <td>0.519232</td>\n",
       "      <td>0.518925</td>\n",
       "    </tr>\n",
       "    <tr>\n",
       "      <th>1</th>\n",
       "      <td>0.274632</td>\n",
       "      <td>0.611442</td>\n",
       "      <td>0.079794</td>\n",
       "      <td>0.381211</td>\n",
       "      <td>0.215276</td>\n",
       "      <td>0.209486</td>\n",
       "      <td>0.274415</td>\n",
       "      <td>0.495039</td>\n",
       "      <td>0.589274</td>\n",
       "      <td>0.263414</td>\n",
       "      <td>...</td>\n",
       "      <td>0.091993</td>\n",
       "      <td>0.044084</td>\n",
       "      <td>0.088613</td>\n",
       "      <td>0.714419</td>\n",
       "      <td>0.129396</td>\n",
       "      <td>0.907062</td>\n",
       "      <td>0.84369</td>\n",
       "      <td>0.597001</td>\n",
       "      <td>0.205323</td>\n",
       "      <td>0.166148</td>\n",
       "    </tr>\n",
       "    <tr>\n",
       "      <th>2</th>\n",
       "      <td>0.852182</td>\n",
       "      <td>0.706282</td>\n",
       "      <td>0.176386</td>\n",
       "      <td>0.716945</td>\n",
       "      <td>0.842039</td>\n",
       "      <td>0.869955</td>\n",
       "      <td>0.666515</td>\n",
       "      <td>0.533009</td>\n",
       "      <td>0.42613</td>\n",
       "      <td>0.626283</td>\n",
       "      <td>...</td>\n",
       "      <td>0.650253</td>\n",
       "      <td>0.661546</td>\n",
       "      <td>0.371331</td>\n",
       "      <td>0.053557</td>\n",
       "      <td>0.614997</td>\n",
       "      <td>0.198724</td>\n",
       "      <td>0.44683</td>\n",
       "      <td>0.808329</td>\n",
       "      <td>0.653055</td>\n",
       "      <td>0.933475</td>\n",
       "    </tr>\n",
       "    <tr>\n",
       "      <th>3</th>\n",
       "      <td>0.438983</td>\n",
       "      <td>0.209647</td>\n",
       "      <td>0.815606</td>\n",
       "      <td>0.734527</td>\n",
       "      <td>0.075048</td>\n",
       "      <td>0.53568</td>\n",
       "      <td>0.88762</td>\n",
       "      <td>0.497703</td>\n",
       "      <td>0.155528</td>\n",
       "      <td>0.523692</td>\n",
       "      <td>...</td>\n",
       "      <td>0.296207</td>\n",
       "      <td>0.485426</td>\n",
       "      <td>0.768339</td>\n",
       "      <td>0.813685</td>\n",
       "      <td>0.576367</td>\n",
       "      <td>0.008514</td>\n",
       "      <td>0.856545</td>\n",
       "      <td>0.1221</td>\n",
       "      <td>0.938982</td>\n",
       "      <td>0.562564</td>\n",
       "    </tr>\n",
       "    <tr>\n",
       "      <th>4</th>\n",
       "      <td>0.917143</td>\n",
       "      <td>0.256123</td>\n",
       "      <td>0.587154</td>\n",
       "      <td>0.6499</td>\n",
       "      <td>0.187574</td>\n",
       "      <td>0.251332</td>\n",
       "      <td>0.085658</td>\n",
       "      <td>0.340766</td>\n",
       "      <td>0.132313</td>\n",
       "      <td>0.75787</td>\n",
       "      <td>...</td>\n",
       "      <td>0.632373</td>\n",
       "      <td>0.275408</td>\n",
       "      <td>0.219488</td>\n",
       "      <td>0.381828</td>\n",
       "      <td>0.675409</td>\n",
       "      <td>0.808041</td>\n",
       "      <td>0.658385</td>\n",
       "      <td>0.892504</td>\n",
       "      <td>0.634275</td>\n",
       "      <td>0.386757</td>\n",
       "    </tr>\n",
       "  </tbody>\n",
       "</table>\n",
       "<p>5 rows × 334 columns</p>\n",
       "</div>"
      ],
      "text/plain": [
       "        0         1         2         3         4         5         6     \n",
       "0     harry  0.468905  0.757843  0.748263  0.362436  0.004832  0.504618  \\\n",
       "1  0.274632  0.611442  0.079794  0.381211  0.215276  0.209486  0.274415   \n",
       "2  0.852182  0.706282  0.176386  0.716945  0.842039  0.869955  0.666515   \n",
       "3  0.438983  0.209647  0.815606  0.734527  0.075048   0.53568   0.88762   \n",
       "4  0.917143  0.256123  0.587154    0.6499  0.187574  0.251332  0.085658   \n",
       "\n",
       "        7         8         9    ...       324       325       326       327   \n",
       "0  0.674598   0.74158  0.370402  ...  0.007755  0.202929  0.214353  0.304045  \\\n",
       "1  0.495039  0.589274  0.263414  ...  0.091993  0.044084  0.088613  0.714419   \n",
       "2  0.533009   0.42613  0.626283  ...  0.650253  0.661546  0.371331  0.053557   \n",
       "3  0.497703  0.155528  0.523692  ...  0.296207  0.485426  0.768339  0.813685   \n",
       "4  0.340766  0.132313   0.75787  ...  0.632373  0.275408  0.219488  0.381828   \n",
       "\n",
       "        328       329       330       331       332       333  \n",
       "0  0.771467   0.05574  0.122154  0.369739  0.519232  0.518925  \n",
       "1  0.129396  0.907062   0.84369  0.597001  0.205323  0.166148  \n",
       "2  0.614997  0.198724   0.44683  0.808329  0.653055  0.933475  \n",
       "3  0.576367  0.008514  0.856545    0.1221  0.938982  0.562564  \n",
       "4  0.675409  0.808041  0.658385  0.892504  0.634275  0.386757  \n",
       "\n",
       "[5 rows x 334 columns]"
      ]
     },
     "execution_count": 34,
     "metadata": {},
     "output_type": "execute_result"
    }
   ],
   "source": [
    "newdf.T"
   ]
  },
  {
   "cell_type": "code",
   "execution_count": null,
   "id": "ff330487",
   "metadata": {},
   "outputs": [],
   "source": []
  }
 ],
 "metadata": {
  "kernelspec": {
   "display_name": "Python 3 (ipykernel)",
   "language": "python",
   "name": "python3"
  },
  "language_info": {
   "codemirror_mode": {
    "name": "ipython",
    "version": 3
   },
   "file_extension": ".py",
   "mimetype": "text/x-python",
   "name": "python",
   "nbconvert_exporter": "python",
   "pygments_lexer": "ipython3",
   "version": "3.11.3"
  }
 },
 "nbformat": 4,
 "nbformat_minor": 5
}
