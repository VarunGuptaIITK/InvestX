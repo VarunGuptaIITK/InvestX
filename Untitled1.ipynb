{
 "cells": [
  {
   "cell_type": "code",
   "execution_count": 1,
   "id": "80975686",
   "metadata": {
    "scrolled": true
   },
   "outputs": [
    {
     "name": "stdout",
     "output_type": "stream",
     "text": [
      "[*********************100%***********************]  1 of 1 completed\n",
      "                  Open        High         Low       Close   Adj Close   \n",
      "Date                                                                     \n",
      "2023-01-03  130.279999  130.899994  124.169998  125.070000  124.706833  \\\n",
      "2023-01-04  126.889999  128.660004  125.080002  126.360001  125.993095   \n",
      "2023-01-05  127.129997  127.769997  124.760002  125.019997  124.656975   \n",
      "2023-01-06  126.010002  130.289993  124.889999  129.619995  129.243622   \n",
      "2023-01-09  130.470001  133.410004  129.889999  130.149994  129.772079   \n",
      "...                ...         ...         ...         ...         ...   \n",
      "2023-04-24  165.000000  165.600006  163.889999  165.330002  165.101639   \n",
      "2023-04-25  165.190002  166.309998  163.729996  163.770004  163.543793   \n",
      "2023-04-26  163.059998  165.279999  162.800003  163.759995  163.533798   \n",
      "2023-04-27  165.190002  168.559998  165.190002  168.410004  168.177383   \n",
      "2023-04-28  168.490005  169.850006  167.880005  169.679993  169.445618   \n",
      "\n",
      "               Volume  \n",
      "Date                   \n",
      "2023-01-03  112117500  \n",
      "2023-01-04   89113600  \n",
      "2023-01-05   80962700  \n",
      "2023-01-06   87754700  \n",
      "2023-01-09   70790800  \n",
      "...               ...  \n",
      "2023-04-24   41949600  \n",
      "2023-04-25   48714100  \n",
      "2023-04-26   45498800  \n",
      "2023-04-27   64902300  \n",
      "2023-04-28   55209200  \n",
      "\n",
      "[81 rows x 6 columns]\n"
     ]
    }
   ],
   "source": [
    "import yfinance as yf\n",
    "\n",
    "# Download stock data\n",
    "data = yf.download(\"AAPL\", start=\"2023-01-01\", end=\"2023-05-01\")\n",
    "\n",
    "# Print the downloaded data\n",
    "print(data)\n"
   ]
  },
  {
   "cell_type": "code",
   "execution_count": 2,
   "id": "7a005903",
   "metadata": {},
   "outputs": [],
   "source": [
    "import pandas as df\n",
    "import numpy as np\n"
   ]
  },
  {
   "cell_type": "code",
   "execution_count": 1,
   "id": "6e835269",
   "metadata": {},
   "outputs": [
    {
     "ename": "ImportError",
     "evalue": "cannot import name 'indicators' from 'ta' (C:\\Users\\28pra\\AppData\\Local\\Programs\\Python\\Python311\\Lib\\site-packages\\ta\\__init__.py)",
     "output_type": "error",
     "traceback": [
      "\u001b[1;31m---------------------------------------------------------------------------\u001b[0m",
      "\u001b[1;31mImportError\u001b[0m                               Traceback (most recent call last)",
      "Cell \u001b[1;32mIn[1], line 1\u001b[0m\n\u001b[1;32m----> 1\u001b[0m \u001b[38;5;28;01mfrom\u001b[39;00m \u001b[38;5;21;01mta\u001b[39;00m \u001b[38;5;28;01mimport\u001b[39;00m indicators\n\u001b[0;32m      2\u001b[0m \u001b[38;5;28;01mimport\u001b[39;00m \u001b[38;5;21;01mpandas\u001b[39;00m \u001b[38;5;28;01mas\u001b[39;00m \u001b[38;5;21;01mpd\u001b[39;00m\n\u001b[0;32m      4\u001b[0m \u001b[38;5;66;03m# Create a sample DataFrame with closing prices\u001b[39;00m\n",
      "\u001b[1;31mImportError\u001b[0m: cannot import name 'indicators' from 'ta' (C:\\Users\\28pra\\AppData\\Local\\Programs\\Python\\Python311\\Lib\\site-packages\\ta\\__init__.py)"
     ]
    }
   ],
   "source": [
    "from ta import indicators\n",
    "import pandas as pd\n",
    "\n",
    "# Create a sample DataFrame with closing prices\n",
    "df = pd.DataFrame({'Close': [10, 12, 15, 14, 13, 11, 9, 8]})\n",
    "\n",
    "# Create a Simple Moving Average (SMA) indicator with a period of 3\n",
    "sma = indicators.SimpleMovingAverage(df['Close'], window=3)\n",
    "\n",
    "# Calculate the SMA values\n",
    "sma_values = sma.sma_indicator()\n",
    "\n",
    "# Print the calculated SMA values\n",
    "print(sma_values)\n"
   ]
  },
  {
   "cell_type": "code",
   "execution_count": 2,
   "id": "c1c27b13",
   "metadata": {},
   "outputs": [
    {
     "name": "stdout",
     "output_type": "stream",
     "text": [
      "   Close        SMA\n",
      "0     10        NaN\n",
      "1     12        NaN\n",
      "2     15  12.333333\n",
      "3     14  13.666667\n",
      "4     13  14.000000\n",
      "5     11  12.666667\n",
      "6      9  11.000000\n",
      "7      8   9.333333\n"
     ]
    }
   ],
   "source": [
    "\n"
   ]
  },
  {
   "cell_type": "code",
   "execution_count": 3,
   "id": "fa849270",
   "metadata": {},
   "outputs": [
    {
     "ename": "NameError",
     "evalue": "name 'data' is not defined",
     "output_type": "error",
     "traceback": [
      "\u001b[1;31m---------------------------------------------------------------------------\u001b[0m",
      "\u001b[1;31mNameError\u001b[0m                                 Traceback (most recent call last)",
      "Cell \u001b[1;32mIn[3], line 1\u001b[0m\n\u001b[1;32m----> 1\u001b[0m df \u001b[38;5;241m=\u001b[39m \u001b[43mdata\u001b[49m\u001b[38;5;241m.\u001b[39mreset_index()\n",
      "\u001b[1;31mNameError\u001b[0m: name 'data' is not defined"
     ]
    }
   ],
   "source": [
    "df = data.reset_index()"
   ]
  },
  {
   "cell_type": "code",
   "execution_count": null,
   "id": "f2af9322",
   "metadata": {},
   "outputs": [],
   "source": []
  }
 ],
 "metadata": {
  "kernelspec": {
   "display_name": "Python 3 (ipykernel)",
   "language": "python",
   "name": "python3"
  },
  "language_info": {
   "codemirror_mode": {
    "name": "ipython",
    "version": 3
   },
   "file_extension": ".py",
   "mimetype": "text/x-python",
   "name": "python",
   "nbconvert_exporter": "python",
   "pygments_lexer": "ipython3",
   "version": "3.11.3"
  }
 },
 "nbformat": 4,
 "nbformat_minor": 5
}
